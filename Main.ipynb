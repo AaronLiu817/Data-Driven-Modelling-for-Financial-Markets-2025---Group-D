{
 "cells": [
  {
   "cell_type": "markdown",
   "metadata": {},
   "source": [
    "# Data-Driven Modelling for Financial Markets Coursework"
   ]
  },
  {
   "cell_type": "markdown",
   "metadata": {},
   "source": [
    "## 1. Chosen Dataset: CREDITXFER"
   ]
  },
  {
   "cell_type": "markdown",
   "metadata": {},
   "source": [
    "### 1.1 Set up and data preview"
   ]
  },
  {
   "cell_type": "code",
   "execution_count": 114,
   "metadata": {},
   "outputs": [],
   "source": [
    "# Import Libraries\n",
    "\n",
    "import pandas as pd\n",
    "import numpy as np\n",
    "import matplotlib.pyplot as plt\n",
    "import seaborn as sns\n",
    "from scipy import stats\n",
    "from sklearn.preprocessing import MinMaxScaler, LabelEncoder"
   ]
  },
  {
   "cell_type": "code",
   "execution_count": 115,
   "metadata": {},
   "outputs": [
    {
     "name": "stderr",
     "output_type": "stream",
     "text": [
      "C:\\Users\\Aaron Liu\\AppData\\Local\\Temp\\ipykernel_32516\\289823788.py:2: DtypeWarning: Columns (6,7,8,9) have mixed types. Specify dtype option on import or set low_memory=False.\n",
      "  df = pd.read_csv(\"D:\\OneDrive - University College London\\Moodles\\Data-Driven Modelling in Financial Markets\\Coursework\\combined.csv\",\n"
     ]
    },
    {
     "data": {
      "text/html": [
       "<div>\n",
       "<style scoped>\n",
       "    .dataframe tbody tr th:only-of-type {\n",
       "        vertical-align: middle;\n",
       "    }\n",
       "\n",
       "    .dataframe tbody tr th {\n",
       "        vertical-align: top;\n",
       "    }\n",
       "\n",
       "    .dataframe thead th {\n",
       "        text-align: right;\n",
       "    }\n",
       "</style>\n",
       "<table border=\"1\" class=\"dataframe\">\n",
       "  <thead>\n",
       "    <tr style=\"text-align: right;\">\n",
       "      <th></th>\n",
       "      <th>Batch</th>\n",
       "      <th>Sector</th>\n",
       "      <th>Region</th>\n",
       "      <th>AvRating</th>\n",
       "      <th>Tier</th>\n",
       "      <th>Recovery</th>\n",
       "      <th>Spread1Y</th>\n",
       "      <th>Spread5Y</th>\n",
       "      <th>Spread10Y</th>\n",
       "    </tr>\n",
       "    <tr>\n",
       "      <th>Date</th>\n",
       "      <th></th>\n",
       "      <th></th>\n",
       "      <th></th>\n",
       "      <th></th>\n",
       "      <th></th>\n",
       "      <th></th>\n",
       "      <th></th>\n",
       "      <th></th>\n",
       "      <th></th>\n",
       "    </tr>\n",
       "  </thead>\n",
       "  <tbody>\n",
       "    <tr>\n",
       "      <th>2019-01-01</th>\n",
       "      <td>EOD_V2</td>\n",
       "      <td>Utilities</td>\n",
       "      <td>North America</td>\n",
       "      <td>BB</td>\n",
       "      <td>SNRFOR</td>\n",
       "      <td>0.4</td>\n",
       "      <td>0.00476</td>\n",
       "      <td>0.02026</td>\n",
       "      <td>0.025958</td>\n",
       "    </tr>\n",
       "    <tr>\n",
       "      <th>2019-01-01</th>\n",
       "      <td>EOD_V2</td>\n",
       "      <td>Consumer Services</td>\n",
       "      <td>Japan</td>\n",
       "      <td>A</td>\n",
       "      <td>SNRFOR</td>\n",
       "      <td>0.35</td>\n",
       "      <td>0.00093</td>\n",
       "      <td>0.004438</td>\n",
       "      <td>0.006437</td>\n",
       "    </tr>\n",
       "    <tr>\n",
       "      <th>2019-01-01</th>\n",
       "      <td>EOD_V2</td>\n",
       "      <td>Energy</td>\n",
       "      <td>Japan</td>\n",
       "      <td>B</td>\n",
       "      <td>SNRFOR</td>\n",
       "      <td>0.35</td>\n",
       "      <td>0.012414</td>\n",
       "      <td>0.039063</td>\n",
       "      <td>0.041125</td>\n",
       "    </tr>\n",
       "    <tr>\n",
       "      <th>2019-01-01</th>\n",
       "      <td>EOD_V2</td>\n",
       "      <td>Energy</td>\n",
       "      <td>Oceania</td>\n",
       "      <td>B</td>\n",
       "      <td>SNRFOR</td>\n",
       "      <td>0.4</td>\n",
       "      <td>0.017517</td>\n",
       "      <td>0.060075</td>\n",
       "      <td>0.065511</td>\n",
       "    </tr>\n",
       "    <tr>\n",
       "      <th>2019-01-01</th>\n",
       "      <td>EOD_V2</td>\n",
       "      <td>NaN</td>\n",
       "      <td>Middle East</td>\n",
       "      <td>CCC</td>\n",
       "      <td>SNRFOR</td>\n",
       "      <td>0.25</td>\n",
       "      <td>0.170262</td>\n",
       "      <td>0.126238</td>\n",
       "      <td>0.11092</td>\n",
       "    </tr>\n",
       "    <tr>\n",
       "      <th>...</th>\n",
       "      <td>...</td>\n",
       "      <td>...</td>\n",
       "      <td>...</td>\n",
       "      <td>...</td>\n",
       "      <td>...</td>\n",
       "      <td>...</td>\n",
       "      <td>...</td>\n",
       "      <td>...</td>\n",
       "      <td>...</td>\n",
       "    </tr>\n",
       "    <tr>\n",
       "      <th>2024-05-01</th>\n",
       "      <td>EOD_V2</td>\n",
       "      <td>Consumer Services</td>\n",
       "      <td>NaN</td>\n",
       "      <td>AAA</td>\n",
       "      <td>SNRFOR</td>\n",
       "      <td>0.4</td>\n",
       "      <td>0.00028</td>\n",
       "      <td>0.001187</td>\n",
       "      <td>0.002311</td>\n",
       "    </tr>\n",
       "    <tr>\n",
       "      <th>2024-05-01</th>\n",
       "      <td>EOD_V2</td>\n",
       "      <td>Utilities</td>\n",
       "      <td>Eastern Europe</td>\n",
       "      <td>B</td>\n",
       "      <td>SNRFOR</td>\n",
       "      <td>0.25</td>\n",
       "      <td>0.014272</td>\n",
       "      <td>0.039628</td>\n",
       "      <td>0.045784</td>\n",
       "    </tr>\n",
       "    <tr>\n",
       "      <th>2024-05-01</th>\n",
       "      <td>EOD_V2</td>\n",
       "      <td>Consumer Goods</td>\n",
       "      <td>Oceania</td>\n",
       "      <td>BBB</td>\n",
       "      <td>SNRFOR</td>\n",
       "      <td>0.4</td>\n",
       "      <td>0.001944</td>\n",
       "      <td>0.007887</td>\n",
       "      <td>0.011469</td>\n",
       "    </tr>\n",
       "    <tr>\n",
       "      <th>2024-05-01</th>\n",
       "      <td>EOD_V2</td>\n",
       "      <td>Consumer Services</td>\n",
       "      <td>Japan</td>\n",
       "      <td>AA</td>\n",
       "      <td>SNRFOR</td>\n",
       "      <td>0.35</td>\n",
       "      <td>0.000515</td>\n",
       "      <td>0.002022</td>\n",
       "      <td>0.002877</td>\n",
       "    </tr>\n",
       "    <tr>\n",
       "      <th>2024-05-01</th>\n",
       "      <td>EOD_V2</td>\n",
       "      <td>Technology</td>\n",
       "      <td>NaN</td>\n",
       "      <td>BBB</td>\n",
       "      <td>SNRFOR</td>\n",
       "      <td>0.4</td>\n",
       "      <td>0.00188</td>\n",
       "      <td>0.006779</td>\n",
       "      <td>0.010737</td>\n",
       "    </tr>\n",
       "  </tbody>\n",
       "</table>\n",
       "<p>1227749 rows × 9 columns</p>\n",
       "</div>"
      ],
      "text/plain": [
       "             Batch             Sector          Region AvRating    Tier  \\\n",
       "Date                                                                     \n",
       "2019-01-01  EOD_V2          Utilities   North America       BB  SNRFOR   \n",
       "2019-01-01  EOD_V2  Consumer Services           Japan        A  SNRFOR   \n",
       "2019-01-01  EOD_V2             Energy           Japan        B  SNRFOR   \n",
       "2019-01-01  EOD_V2             Energy         Oceania        B  SNRFOR   \n",
       "2019-01-01  EOD_V2                NaN     Middle East      CCC  SNRFOR   \n",
       "...            ...                ...             ...      ...     ...   \n",
       "2024-05-01  EOD_V2  Consumer Services             NaN      AAA  SNRFOR   \n",
       "2024-05-01  EOD_V2          Utilities  Eastern Europe        B  SNRFOR   \n",
       "2024-05-01  EOD_V2     Consumer Goods         Oceania      BBB  SNRFOR   \n",
       "2024-05-01  EOD_V2  Consumer Services           Japan       AA  SNRFOR   \n",
       "2024-05-01  EOD_V2         Technology             NaN      BBB  SNRFOR   \n",
       "\n",
       "           Recovery  Spread1Y  Spread5Y Spread10Y  \n",
       "Date                                               \n",
       "2019-01-01      0.4   0.00476   0.02026  0.025958  \n",
       "2019-01-01     0.35   0.00093  0.004438  0.006437  \n",
       "2019-01-01     0.35  0.012414  0.039063  0.041125  \n",
       "2019-01-01      0.4  0.017517  0.060075  0.065511  \n",
       "2019-01-01     0.25  0.170262  0.126238   0.11092  \n",
       "...             ...       ...       ...       ...  \n",
       "2024-05-01      0.4   0.00028  0.001187  0.002311  \n",
       "2024-05-01     0.25  0.014272  0.039628  0.045784  \n",
       "2024-05-01      0.4  0.001944  0.007887  0.011469  \n",
       "2024-05-01     0.35  0.000515  0.002022  0.002877  \n",
       "2024-05-01      0.4   0.00188  0.006779  0.010737  \n",
       "\n",
       "[1227749 rows x 9 columns]"
      ]
     },
     "execution_count": 115,
     "metadata": {},
     "output_type": "execute_result"
    }
   ],
   "source": [
    "# Load Data\n",
    "df = pd.read_csv(\"D:\\OneDrive - University College London\\Moodles\\Data-Driven Modelling in Financial Markets\\Coursework\\combined.csv\",\n",
    "                 parse_dates=True, index_col='Date')\n",
    "df"
   ]
  },
  {
   "cell_type": "markdown",
   "metadata": {},
   "source": [
    "### 1.2 Data Preprocessing"
   ]
  },
  {
   "cell_type": "markdown",
   "metadata": {},
   "source": [
    "#### 1.2.1 Missing Values"
   ]
  },
  {
   "cell_type": "code",
   "execution_count": 116,
   "metadata": {},
   "outputs": [
    {
     "name": "stdout",
     "output_type": "stream",
     "text": [
      "\n",
      "Checking missing values before handling:\n",
      "Batch             0\n",
      "Sector        87696\n",
      "Region       136416\n",
      "AvRating          0\n",
      "Tier              0\n",
      "Recovery          0\n",
      "Spread1Y          0\n",
      "Spread5Y          0\n",
      "Spread10Y         0\n",
      "dtype: int64\n"
     ]
    }
   ],
   "source": [
    "# Check for missing values\n",
    "print(\"\\nChecking missing values before handling:\")\n",
    "print(df.isnull().sum())"
   ]
  },
  {
   "cell_type": "code",
   "execution_count": 117,
   "metadata": {},
   "outputs": [
    {
     "name": "stdout",
     "output_type": "stream",
     "text": [
      "\n",
      "Checking how missing values of Sector and Region overlap:\n",
      "77952\n",
      "126672\n",
      "9744\n"
     ]
    }
   ],
   "source": [
    "# Check how missing values overlap\n",
    "print(\"\\nChecking how missing values of Sector and Region overlap:\")\n",
    "print(df[df['Sector'].isnull() & df['Region'].notnull()].shape[0])  # Missing Sector but has Region\n",
    "print(df[df['Region'].isnull() & df['Sector'].notnull()].shape[0])  # Missing Region but has Sector\n",
    "print(df[df['Sector'].isnull() & df['Region'].isnull()].shape[0])  # Both missing\n"
   ]
  },
  {
   "cell_type": "code",
   "execution_count": 118,
   "metadata": {},
   "outputs": [
    {
     "name": "stderr",
     "output_type": "stream",
     "text": [
      "C:\\Users\\Aaron Liu\\AppData\\Local\\Temp\\ipykernel_32516\\4021271434.py:6: FutureWarning: A value is trying to be set on a copy of a DataFrame or Series through chained assignment using an inplace method.\n",
      "The behavior will change in pandas 3.0. This inplace method will never work because the intermediate object on which we are setting values always behaves as a copy.\n",
      "\n",
      "For example, when doing 'df[col].method(value, inplace=True)', try using 'df.method({col: value}, inplace=True)' or df[col] = df[col].method(value) instead, to perform the operation inplace on the original object.\n",
      "\n",
      "\n",
      "  df['Sector'].fillna(\"Unknown\", inplace=True)\n",
      "C:\\Users\\Aaron Liu\\AppData\\Local\\Temp\\ipykernel_32516\\4021271434.py:7: FutureWarning: A value is trying to be set on a copy of a DataFrame or Series through chained assignment using an inplace method.\n",
      "The behavior will change in pandas 3.0. This inplace method will never work because the intermediate object on which we are setting values always behaves as a copy.\n",
      "\n",
      "For example, when doing 'df[col].method(value, inplace=True)', try using 'df.method({col: value}, inplace=True)' or df[col] = df[col].method(value) instead, to perform the operation inplace on the original object.\n",
      "\n",
      "\n",
      "  df['Region'].fillna(\"Unknown\", inplace=True)\n"
     ]
    }
   ],
   "source": [
    "# Fill missing values in Sector and Region (This steps fill the missing values in Sector and Region based on the mode of the respective columns)\n",
    "df['Sector'] = df.groupby('Region')['Sector'].transform(lambda x: x.mode()[0] if not x.mode().empty else np.nan)\n",
    "df['Region'] = df.groupby('Sector')['Region'].transform(lambda x: x.mode()[0] if not x.mode().empty else np.nan)\n",
    "\n",
    "# Fill remaining missing values\n",
    "df['Sector'].fillna(\"Unknown\", inplace=True)\n",
    "df['Region'].fillna(\"Unknown\", inplace=True)"
   ]
  },
  {
   "cell_type": "code",
   "execution_count": 119,
   "metadata": {},
   "outputs": [
    {
     "name": "stdout",
     "output_type": "stream",
     "text": [
      "Batch        0\n",
      "Sector       0\n",
      "Region       0\n",
      "AvRating     0\n",
      "Tier         0\n",
      "Recovery     0\n",
      "Spread1Y     0\n",
      "Spread5Y     0\n",
      "Spread10Y    0\n",
      "dtype: int64\n"
     ]
    }
   ],
   "source": [
    "print(df.isnull().sum())  # Should return all zeros for Sector and Region\n"
   ]
  },
  {
   "cell_type": "code",
   "execution_count": 120,
   "metadata": {},
   "outputs": [
    {
     "data": {
      "text/html": [
       "<div>\n",
       "<style scoped>\n",
       "    .dataframe tbody tr th:only-of-type {\n",
       "        vertical-align: middle;\n",
       "    }\n",
       "\n",
       "    .dataframe tbody tr th {\n",
       "        vertical-align: top;\n",
       "    }\n",
       "\n",
       "    .dataframe thead th {\n",
       "        text-align: right;\n",
       "    }\n",
       "</style>\n",
       "<table border=\"1\" class=\"dataframe\">\n",
       "  <thead>\n",
       "    <tr style=\"text-align: right;\">\n",
       "      <th></th>\n",
       "      <th>Batch</th>\n",
       "      <th>Sector</th>\n",
       "      <th>Region</th>\n",
       "      <th>AvRating</th>\n",
       "      <th>Tier</th>\n",
       "      <th>Recovery</th>\n",
       "      <th>Spread1Y</th>\n",
       "      <th>Spread5Y</th>\n",
       "      <th>Spread10Y</th>\n",
       "    </tr>\n",
       "    <tr>\n",
       "      <th>Date</th>\n",
       "      <th></th>\n",
       "      <th></th>\n",
       "      <th></th>\n",
       "      <th></th>\n",
       "      <th></th>\n",
       "      <th></th>\n",
       "      <th></th>\n",
       "      <th></th>\n",
       "      <th></th>\n",
       "    </tr>\n",
       "  </thead>\n",
       "  <tbody>\n",
       "    <tr>\n",
       "      <th>2019-01-01</th>\n",
       "      <td>EOD_V2</td>\n",
       "      <td>Basic Materials</td>\n",
       "      <td>Asia ex-Japan</td>\n",
       "      <td>BB</td>\n",
       "      <td>SNRFOR</td>\n",
       "      <td>0.4</td>\n",
       "      <td>0.00476</td>\n",
       "      <td>0.02026</td>\n",
       "      <td>0.025958</td>\n",
       "    </tr>\n",
       "    <tr>\n",
       "      <th>2019-01-01</th>\n",
       "      <td>EOD_V2</td>\n",
       "      <td>Basic Materials</td>\n",
       "      <td>Asia ex-Japan</td>\n",
       "      <td>A</td>\n",
       "      <td>SNRFOR</td>\n",
       "      <td>0.35</td>\n",
       "      <td>0.00093</td>\n",
       "      <td>0.004438</td>\n",
       "      <td>0.006437</td>\n",
       "    </tr>\n",
       "    <tr>\n",
       "      <th>2019-01-01</th>\n",
       "      <td>EOD_V2</td>\n",
       "      <td>Basic Materials</td>\n",
       "      <td>Asia ex-Japan</td>\n",
       "      <td>B</td>\n",
       "      <td>SNRFOR</td>\n",
       "      <td>0.35</td>\n",
       "      <td>0.012414</td>\n",
       "      <td>0.039063</td>\n",
       "      <td>0.041125</td>\n",
       "    </tr>\n",
       "    <tr>\n",
       "      <th>2019-01-01</th>\n",
       "      <td>EOD_V2</td>\n",
       "      <td>Basic Materials</td>\n",
       "      <td>Asia ex-Japan</td>\n",
       "      <td>B</td>\n",
       "      <td>SNRFOR</td>\n",
       "      <td>0.4</td>\n",
       "      <td>0.017517</td>\n",
       "      <td>0.060075</td>\n",
       "      <td>0.065511</td>\n",
       "    </tr>\n",
       "    <tr>\n",
       "      <th>2019-01-01</th>\n",
       "      <td>EOD_V2</td>\n",
       "      <td>Basic Materials</td>\n",
       "      <td>Asia ex-Japan</td>\n",
       "      <td>CCC</td>\n",
       "      <td>SNRFOR</td>\n",
       "      <td>0.25</td>\n",
       "      <td>0.170262</td>\n",
       "      <td>0.126238</td>\n",
       "      <td>0.11092</td>\n",
       "    </tr>\n",
       "  </tbody>\n",
       "</table>\n",
       "</div>"
      ],
      "text/plain": [
       "             Batch           Sector         Region AvRating    Tier Recovery  \\\n",
       "Date                                                                           \n",
       "2019-01-01  EOD_V2  Basic Materials  Asia ex-Japan       BB  SNRFOR      0.4   \n",
       "2019-01-01  EOD_V2  Basic Materials  Asia ex-Japan        A  SNRFOR     0.35   \n",
       "2019-01-01  EOD_V2  Basic Materials  Asia ex-Japan        B  SNRFOR     0.35   \n",
       "2019-01-01  EOD_V2  Basic Materials  Asia ex-Japan        B  SNRFOR      0.4   \n",
       "2019-01-01  EOD_V2  Basic Materials  Asia ex-Japan      CCC  SNRFOR     0.25   \n",
       "\n",
       "            Spread1Y  Spread5Y Spread10Y  \n",
       "Date                                      \n",
       "2019-01-01   0.00476   0.02026  0.025958  \n",
       "2019-01-01   0.00093  0.004438  0.006437  \n",
       "2019-01-01  0.012414  0.039063  0.041125  \n",
       "2019-01-01  0.017517  0.060075  0.065511  \n",
       "2019-01-01  0.170262  0.126238   0.11092  "
      ]
     },
     "execution_count": 120,
     "metadata": {},
     "output_type": "execute_result"
    }
   ],
   "source": [
    "df.head()\n"
   ]
  },
  {
   "cell_type": "code",
   "execution_count": 121,
   "metadata": {},
   "outputs": [
    {
     "data": {
      "text/html": [
       "<div>\n",
       "<style scoped>\n",
       "    .dataframe tbody tr th:only-of-type {\n",
       "        vertical-align: middle;\n",
       "    }\n",
       "\n",
       "    .dataframe tbody tr th {\n",
       "        vertical-align: top;\n",
       "    }\n",
       "\n",
       "    .dataframe thead th {\n",
       "        text-align: right;\n",
       "    }\n",
       "</style>\n",
       "<table border=\"1\" class=\"dataframe\">\n",
       "  <thead>\n",
       "    <tr style=\"text-align: right;\">\n",
       "      <th></th>\n",
       "      <th>Batch</th>\n",
       "      <th>Sector</th>\n",
       "      <th>Region</th>\n",
       "      <th>AvRating</th>\n",
       "      <th>Tier</th>\n",
       "      <th>Recovery</th>\n",
       "      <th>Spread1Y</th>\n",
       "      <th>Spread5Y</th>\n",
       "      <th>Spread10Y</th>\n",
       "    </tr>\n",
       "    <tr>\n",
       "      <th>Date</th>\n",
       "      <th></th>\n",
       "      <th></th>\n",
       "      <th></th>\n",
       "      <th></th>\n",
       "      <th></th>\n",
       "      <th></th>\n",
       "      <th></th>\n",
       "      <th></th>\n",
       "      <th></th>\n",
       "    </tr>\n",
       "  </thead>\n",
       "  <tbody>\n",
       "    <tr>\n",
       "      <th>2024-05-01</th>\n",
       "      <td>EOD_V2</td>\n",
       "      <td>Unknown</td>\n",
       "      <td>Unknown</td>\n",
       "      <td>AAA</td>\n",
       "      <td>SNRFOR</td>\n",
       "      <td>0.4</td>\n",
       "      <td>0.00028</td>\n",
       "      <td>0.001187</td>\n",
       "      <td>0.002311</td>\n",
       "    </tr>\n",
       "    <tr>\n",
       "      <th>2024-05-01</th>\n",
       "      <td>EOD_V2</td>\n",
       "      <td>Basic Materials</td>\n",
       "      <td>Asia ex-Japan</td>\n",
       "      <td>B</td>\n",
       "      <td>SNRFOR</td>\n",
       "      <td>0.25</td>\n",
       "      <td>0.014272</td>\n",
       "      <td>0.039628</td>\n",
       "      <td>0.045784</td>\n",
       "    </tr>\n",
       "    <tr>\n",
       "      <th>2024-05-01</th>\n",
       "      <td>EOD_V2</td>\n",
       "      <td>Basic Materials</td>\n",
       "      <td>Asia ex-Japan</td>\n",
       "      <td>BBB</td>\n",
       "      <td>SNRFOR</td>\n",
       "      <td>0.4</td>\n",
       "      <td>0.001944</td>\n",
       "      <td>0.007887</td>\n",
       "      <td>0.011469</td>\n",
       "    </tr>\n",
       "    <tr>\n",
       "      <th>2024-05-01</th>\n",
       "      <td>EOD_V2</td>\n",
       "      <td>Basic Materials</td>\n",
       "      <td>Asia ex-Japan</td>\n",
       "      <td>AA</td>\n",
       "      <td>SNRFOR</td>\n",
       "      <td>0.35</td>\n",
       "      <td>0.000515</td>\n",
       "      <td>0.002022</td>\n",
       "      <td>0.002877</td>\n",
       "    </tr>\n",
       "    <tr>\n",
       "      <th>2024-05-01</th>\n",
       "      <td>EOD_V2</td>\n",
       "      <td>Unknown</td>\n",
       "      <td>Unknown</td>\n",
       "      <td>BBB</td>\n",
       "      <td>SNRFOR</td>\n",
       "      <td>0.4</td>\n",
       "      <td>0.00188</td>\n",
       "      <td>0.006779</td>\n",
       "      <td>0.010737</td>\n",
       "    </tr>\n",
       "  </tbody>\n",
       "</table>\n",
       "</div>"
      ],
      "text/plain": [
       "             Batch           Sector         Region AvRating    Tier Recovery  \\\n",
       "Date                                                                           \n",
       "2024-05-01  EOD_V2          Unknown        Unknown      AAA  SNRFOR      0.4   \n",
       "2024-05-01  EOD_V2  Basic Materials  Asia ex-Japan        B  SNRFOR     0.25   \n",
       "2024-05-01  EOD_V2  Basic Materials  Asia ex-Japan      BBB  SNRFOR      0.4   \n",
       "2024-05-01  EOD_V2  Basic Materials  Asia ex-Japan       AA  SNRFOR     0.35   \n",
       "2024-05-01  EOD_V2          Unknown        Unknown      BBB  SNRFOR      0.4   \n",
       "\n",
       "            Spread1Y  Spread5Y Spread10Y  \n",
       "Date                                      \n",
       "2024-05-01   0.00028  0.001187  0.002311  \n",
       "2024-05-01  0.014272  0.039628  0.045784  \n",
       "2024-05-01  0.001944  0.007887  0.011469  \n",
       "2024-05-01  0.000515  0.002022  0.002877  \n",
       "2024-05-01   0.00188  0.006779  0.010737  "
      ]
     },
     "execution_count": 121,
     "metadata": {},
     "output_type": "execute_result"
    }
   ],
   "source": [
    "df.tail()"
   ]
  },
  {
   "cell_type": "markdown",
   "metadata": {},
   "source": [
    "#### 1.2.2 Handling Duplicates"
   ]
  },
  {
   "cell_type": "code",
   "execution_count": 122,
   "metadata": {},
   "outputs": [
    {
     "name": "stdout",
     "output_type": "stream",
     "text": [
      "\n",
      "Removing duplicates...\n",
      "✅ Removed 4 duplicate rows\n"
     ]
    }
   ],
   "source": [
    "# Remove Duplicates\n",
    "print(\"\\nRemoving duplicates...\")\n",
    "before_rows = df.shape[0]\n",
    "df.drop_duplicates(subset=['Batch', 'Sector', 'Region', 'AvRating', 'Tier','Recovery','Spread1Y', 'Spread5Y', 'Spread10Y'], keep='first', inplace=True)\n",
    "after_rows = df.shape[0]\n",
    "print(f\"✅ Removed {before_rows - after_rows} duplicate rows\")"
   ]
  },
  {
   "cell_type": "markdown",
   "metadata": {},
   "source": [
    "#### 1.2.3 Numerical Values Handling"
   ]
  },
  {
   "cell_type": "code",
   "execution_count": 123,
   "metadata": {},
   "outputs": [
    {
     "name": "stdout",
     "output_type": "stream",
     "text": [
      "Spread1Y     object\n",
      "Spread5Y     object\n",
      "Spread10Y    object\n",
      "Recovery     object\n",
      "dtype: object\n"
     ]
    }
   ],
   "source": [
    "print(df[['Spread1Y', 'Spread5Y', 'Spread10Y', 'Recovery']].dtypes)  # Should all be float or int\n"
   ]
  },
  {
   "cell_type": "code",
   "execution_count": 124,
   "metadata": {},
   "outputs": [],
   "source": [
    "for col in ['Spread1Y', 'Spread5Y', 'Spread10Y', 'Recovery']:\n",
    "    df[col] = pd.to_numeric(df[col], errors='coerce')  # Converts valid numbers, replaces invalid values with NaN"
   ]
  },
  {
   "cell_type": "code",
   "execution_count": 125,
   "metadata": {},
   "outputs": [
    {
     "name": "stdout",
     "output_type": "stream",
     "text": [
      "Spread1Y     float64\n",
      "Spread5Y     float64\n",
      "Spread10Y    float64\n",
      "Recovery     float64\n",
      "dtype: object\n",
      "Batch        0\n",
      "Sector       0\n",
      "Region       0\n",
      "AvRating     0\n",
      "Tier         0\n",
      "Recovery     1\n",
      "Spread1Y     1\n",
      "Spread5Y     1\n",
      "Spread10Y    1\n",
      "dtype: int64\n"
     ]
    }
   ],
   "source": [
    "print(df[['Spread1Y', 'Spread5Y', 'Spread10Y', 'Recovery']].dtypes)\n",
    "print(df.isnull().sum())  # Shows the number of NaNs in each column\n"
   ]
  },
  {
   "cell_type": "code",
   "execution_count": 126,
   "metadata": {},
   "outputs": [],
   "source": [
    "# Driop rows with missing values in the columns of interest\n",
    "df.dropna(subset=['Spread1Y', 'Spread5Y', 'Spread10Y', 'Recovery'], inplace=True)\n",
    "\n"
   ]
  },
  {
   "cell_type": "code",
   "execution_count": 127,
   "metadata": {},
   "outputs": [
    {
     "name": "stdout",
     "output_type": "stream",
     "text": [
      "Batch        0\n",
      "Sector       0\n",
      "Region       0\n",
      "AvRating     0\n",
      "Tier         0\n",
      "Recovery     0\n",
      "Spread1Y     0\n",
      "Spread5Y     0\n",
      "Spread10Y    0\n",
      "dtype: int64\n",
      "            Spread1Y  Spread5Y  Spread10Y  Recovery\n",
      "Date                                               \n",
      "2019-01-01  0.004760  0.020260   0.025958      0.40\n",
      "2019-01-01  0.000930  0.004438   0.006437      0.35\n",
      "2019-01-01  0.012414  0.039063   0.041125      0.35\n",
      "2019-01-01  0.017517  0.060075   0.065511      0.40\n",
      "2019-01-01  0.170262  0.126238   0.110920      0.25\n",
      "Spread1Y     float64\n",
      "Spread5Y     float64\n",
      "Spread10Y    float64\n",
      "Recovery     float64\n",
      "dtype: object\n"
     ]
    }
   ],
   "source": [
    "# Check again for missing values\n",
    "print(df.isnull().sum())  # Should all be zeros for the columns of interest\n",
    "print(df[['Spread1Y', 'Spread5Y', 'Spread10Y', 'Recovery']].head())  # Preview cleaned data\n",
    "print(df[['Spread1Y', 'Spread5Y', 'Spread10Y', 'Recovery']].dtypes)  # Should be float64\n"
   ]
  },
  {
   "cell_type": "code",
   "execution_count": 128,
   "metadata": {},
   "outputs": [],
   "source": [
    "# Check summary statistics before processing\n",
    "summary_before = df.describe()"
   ]
  },
  {
   "cell_type": "code",
   "execution_count": 129,
   "metadata": {},
   "outputs": [
    {
     "data": {
      "image/png": "[encoded data removed]",
      "text/plain": [
       "<Figure size 1400x1000 with 4 Axes>"
      ]
     },
     "metadata": {},
     "output_type": "display_data"
    }
   ],
   "source": [
    "# Visualize distributions of numerical features before outlier removal\n",
    "fig, axes = plt.subplots(2, 2, figsize=(14, 10))\n",
    "numerical_columns = ['Spread1Y', 'Spread5Y', 'Spread10Y', 'Recovery']\n",
    "\n",
    "for i, col in enumerate(numerical_columns):\n",
    "    sns.histplot(df[col], bins=50, kde=True, ax=axes[i//2, i%2])\n",
    "    axes[i//2, i%2].set_title(f\"Distribution of {col} Before Outlier Removal\")\n",
    "\n",
    "plt.tight_layout()\n",
    "plt.show()"
   ]
  },
  {
   "cell_type": "code",
   "execution_count": 130,
   "metadata": {},
   "outputs": [],
   "source": [
    "# save the data as csv\n",
    "df.to_csv(\"D:\\OneDrive - University College London\\Moodles\\Data-Driven Modelling in Financial Markets\\Coursework\\cleaned_data.csv\", index=False)"
   ]
  },
  {
   "cell_type": "markdown",
   "metadata": {},
   "source": [
    "### Notes: (Outliers, Normalization, Encoding)\n",
    "#### 1. Fat-tailed distributions are common in financial data, need to use robust methods to detect outliers, blindly removing might not be appropriate. The outlier removal codes are provided below, based on 3 standard deviations.\n",
    "#### 2. Recovery Rate data shows as category-like data. \n",
    "#### 3. Normalization is not always needed, this depends on what models we will use. \n",
    "#### 4. Encode the Categorical Variables is not always needed, this depends on what models we will use. "
   ]
  },
  {
   "cell_type": "code",
   "execution_count": 131,
   "metadata": {},
   "outputs": [],
   "source": [
    "# outlier_counts = {}\n",
    "\n",
    "# for col in ['Spread1Y', 'Spread5Y', 'Spread10Y']:\n",
    "#     before_rows = df.shape[0]\n",
    "#     z_scores = np.abs(stats.zscore(df[col]))\n",
    "#     outlier_counts[col] = (z_scores > 3).sum()\n",
    "#     df = df[z_scores < 3]  # Keep only values within 3 standard deviations\n",
    "#     after_rows = df.shape[0]\n",
    "#     print(f\"✅ Removed {before_rows - after_rows} outliers from {col}\")\n",
    "\n",
    "# # Plot distributions after outlier removal\n",
    "# fig, axes = plt.subplots(2, 2, figsize=(14, 10))\n",
    "# numerical_columns = ['Spread1Y', 'Spread5Y', 'Spread10Y', 'Recovery']\n",
    "\n",
    "# for i, col in enumerate(numerical_columns):\n",
    "#     sns.histplot(df[col], bins=50, kde=True, ax=axes[i//2, i%2])\n",
    "#     axes[i//2, i%2].set_title(f\"Distribution of {col} After Outlier Removal\")\n",
    "\n",
    "# plt.tight_layout()\n",
    "# plt.show()\n",
    "\n",
    "# # Visualizing Outliers Count Before Removal\n",
    "# plt.figure(figsize=(8,5))\n",
    "# sns.barplot(x=list(outlier_counts.keys()), y=list(outlier_counts.values()))\n",
    "# plt.title(\"Outliers Count per Feature (Z-score > 3) Before Removal\")\n",
    "# plt.ylabel(\"Number of Outliers\")\n",
    "# plt.show()"
   ]
  },
  {
   "cell_type": "code",
   "execution_count": null,
   "metadata": {},
   "outputs": [],
   "source": []
  },
  {
   "cell_type": "code",
   "execution_count": null,
   "metadata": {},
   "outputs": [],
   "source": []
  },
  {
   "cell_type": "code",
   "execution_count": null,
   "metadata": {},
   "outputs": [],
   "source": []
  },
  {
   "cell_type": "code",
   "execution_count": null,
   "metadata": {},
   "outputs": [],
   "source": []
  }
 ],
 "metadata": {
  "kernelspec": {
   "display_name": "digital_finance_env",
   "language": "python",
   "name": "python3"
  },
  "language_info": {
   "codemirror_mode": {
    "name": "ipython",
    "version": 3
   },
   "file_extension": ".py",
   "mimetype": "text/x-python",
   "name": "python",
   "nbconvert_exporter": "python",
   "pygments_lexer": "ipython3",
   "version": "3.11.9"
  }
 },
 "nbformat": 4,
 "nbformat_minor": 2
}
